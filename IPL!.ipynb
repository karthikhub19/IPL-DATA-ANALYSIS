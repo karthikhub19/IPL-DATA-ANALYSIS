{
  "nbformat": 4,
  "nbformat_minor": 0,
  "metadata": {
    "colab": {
      "name": "IPL!.ipynb",
      "provenance": [],
      "authorship_tag": "ABX9TyPcpzbljYjT3UOX2w2cuxYR",
      "include_colab_link": true
    },
    "kernelspec": {
      "name": "python3",
      "display_name": "Python 3"
    },
    "language_info": {
      "name": "python"
    }
  },
  "cells": [
    {
      "cell_type": "markdown",
      "metadata": {
        "id": "view-in-github",
        "colab_type": "text"
      },
      "source": [
        "<a href=\"https://colab.research.google.com/github/karthikhub19/IPL-DATA-ANALYSIS/blob/main/IPL!.ipynb\" target=\"_parent\"><img src=\"https://colab.research.google.com/assets/colab-badge.svg\" alt=\"Open In Colab\"/></a>"
      ]
    },
    {
      "cell_type": "code",
      "source": [
        "!pip install jupyter-dash -q\n",
        "import pandas as pd\n",
        "import dash\n",
        "import numpy as np\n",
        "from jupyter_dash import JupyterDash\n",
        "import dash_core_components as dcc\n",
        "import dash_html_components as html\n",
        "import plotly.express as px\n",
        "import plotly.graph_objs as go\n",
        "import matplotlib.pyplot as plt\n",
        "import seaborn as sns"
      ],
      "metadata": {
        "colab": {
          "base_uri": "https://localhost:8080/",
          "height": 208
        },
        "id": "w5KAvjoWNwxk",
        "outputId": "143c5b5c-2565-48a0-bf58-af141bae650e"
      },
      "execution_count": 2,
      "outputs": [
        {
          "output_type": "stream",
          "name": "stdout",
          "text": [
            "\u001b[K     |████████████████████████████████| 8.5 MB 6.7 MB/s \n",
            "\u001b[K     |████████████████████████████████| 357 kB 46.0 MB/s \n",
            "\u001b[?25h  Building wheel for retrying (setup.py) ... \u001b[?25l\u001b[?25hdone\n"
          ]
        },
        {
          "output_type": "stream",
          "name": "stderr",
          "text": [
            "/usr/local/lib/python3.7/dist-packages/ipykernel_launcher.py:6: UserWarning: \n",
            "The dash_core_components package is deprecated. Please replace\n",
            "`import dash_core_components as dcc` with `from dash import dcc`\n",
            "  \n",
            "/usr/local/lib/python3.7/dist-packages/ipykernel_launcher.py:7: UserWarning: \n",
            "The dash_html_components package is deprecated. Please replace\n",
            "`import dash_html_components as html` with `from dash import html`\n",
            "  import sys\n"
          ]
        }
      ]
    },
    {
      "cell_type": "code",
      "execution_count": 7,
      "metadata": {
        "colab": {
          "base_uri": "https://localhost:8080/",
          "height": 588
        },
        "id": "SvMe5k_TNVrq",
        "outputId": "19050388-ab42-4df3-d7d2-87c318c8e6e3"
      },
      "outputs": [
        {
          "output_type": "stream",
          "name": "stdout",
          "text": [
            "Dash is running on http://127.0.0.1:8050/\n",
            "\n",
            "Dash is running on http://127.0.0.1:8050/\n",
            "\n",
            "Dash is running on http://127.0.0.1:8050/\n",
            "\n",
            "Dash is running on http://127.0.0.1:8050/\n",
            "\n",
            " * Serving Flask app \"__main__\" (lazy loading)\n",
            " * Environment: production\n",
            "\u001b[31m   WARNING: This is a development server. Do not use it in a production deployment.\u001b[0m\n",
            "\u001b[2m   Use a production WSGI server instead.\u001b[0m\n",
            " * Debug mode: on\n"
          ]
        },
        {
          "output_type": "error",
          "ename": "OSError",
          "evalue": "ignored",
          "traceback": [
            "\u001b[0;31m---------------------------------------------------------------------------\u001b[0m",
            "\u001b[0;31mOSError\u001b[0m                                   Traceback (most recent call last)",
            "\u001b[0;32m<ipython-input-7-f4cec0897fb5>\u001b[0m in \u001b[0;36m<module>\u001b[0;34m()\u001b[0m\n\u001b[1;32m    150\u001b[0m \u001b[0;34m\u001b[0m\u001b[0m\n\u001b[1;32m    151\u001b[0m \u001b[0;32mif\u001b[0m \u001b[0m__name__\u001b[0m \u001b[0;34m==\u001b[0m \u001b[0;34m'__main__'\u001b[0m\u001b[0;34m:\u001b[0m\u001b[0;34m\u001b[0m\u001b[0;34m\u001b[0m\u001b[0m\n\u001b[0;32m--> 152\u001b[0;31m   \u001b[0mapp\u001b[0m\u001b[0;34m.\u001b[0m\u001b[0mrun_server\u001b[0m\u001b[0;34m(\u001b[0m\u001b[0mdebug\u001b[0m\u001b[0;34m=\u001b[0m\u001b[0;32mTrue\u001b[0m\u001b[0;34m)\u001b[0m\u001b[0;34m\u001b[0m\u001b[0;34m\u001b[0m\u001b[0m\n\u001b[0m",
            "\u001b[0;32m/usr/local/lib/python3.7/dist-packages/dash/dash.py\u001b[0m in \u001b[0;36mrun_server\u001b[0;34m(self, host, port, proxy, debug, dev_tools_ui, dev_tools_props_check, dev_tools_serve_dev_bundles, dev_tools_hot_reload, dev_tools_hot_reload_interval, dev_tools_hot_reload_watch_interval, dev_tools_hot_reload_max_retry, dev_tools_silence_routes_logging, dev_tools_prune_errors, **flask_run_options)\u001b[0m\n\u001b[1;32m   2040\u001b[0m                     \u001b[0mextra_files\u001b[0m\u001b[0;34m.\u001b[0m\u001b[0mappend\u001b[0m\u001b[0;34m(\u001b[0m\u001b[0mpath\u001b[0m\u001b[0;34m)\u001b[0m\u001b[0;34m\u001b[0m\u001b[0;34m\u001b[0m\u001b[0m\n\u001b[1;32m   2041\u001b[0m \u001b[0;34m\u001b[0m\u001b[0m\n\u001b[0;32m-> 2042\u001b[0;31m         \u001b[0mself\u001b[0m\u001b[0;34m.\u001b[0m\u001b[0mserver\u001b[0m\u001b[0;34m.\u001b[0m\u001b[0mrun\u001b[0m\u001b[0;34m(\u001b[0m\u001b[0mhost\u001b[0m\u001b[0;34m=\u001b[0m\u001b[0mhost\u001b[0m\u001b[0;34m,\u001b[0m \u001b[0mport\u001b[0m\u001b[0;34m=\u001b[0m\u001b[0mport\u001b[0m\u001b[0;34m,\u001b[0m \u001b[0mdebug\u001b[0m\u001b[0;34m=\u001b[0m\u001b[0mdebug\u001b[0m\u001b[0;34m,\u001b[0m \u001b[0;34m**\u001b[0m\u001b[0mflask_run_options\u001b[0m\u001b[0;34m)\u001b[0m\u001b[0;34m\u001b[0m\u001b[0;34m\u001b[0m\u001b[0m\n\u001b[0m",
            "\u001b[0;32m/usr/local/lib/python3.7/dist-packages/flask/app.py\u001b[0m in \u001b[0;36mrun\u001b[0;34m(self, host, port, debug, load_dotenv, **options)\u001b[0m\n\u001b[1;32m    988\u001b[0m \u001b[0;34m\u001b[0m\u001b[0m\n\u001b[1;32m    989\u001b[0m         \u001b[0;32mtry\u001b[0m\u001b[0;34m:\u001b[0m\u001b[0;34m\u001b[0m\u001b[0;34m\u001b[0m\u001b[0m\n\u001b[0;32m--> 990\u001b[0;31m             \u001b[0mrun_simple\u001b[0m\u001b[0;34m(\u001b[0m\u001b[0mhost\u001b[0m\u001b[0;34m,\u001b[0m \u001b[0mport\u001b[0m\u001b[0;34m,\u001b[0m \u001b[0mself\u001b[0m\u001b[0;34m,\u001b[0m \u001b[0;34m**\u001b[0m\u001b[0moptions\u001b[0m\u001b[0;34m)\u001b[0m\u001b[0;34m\u001b[0m\u001b[0;34m\u001b[0m\u001b[0m\n\u001b[0m\u001b[1;32m    991\u001b[0m         \u001b[0;32mfinally\u001b[0m\u001b[0;34m:\u001b[0m\u001b[0;34m\u001b[0m\u001b[0;34m\u001b[0m\u001b[0m\n\u001b[1;32m    992\u001b[0m             \u001b[0;31m# reset the first request information if the development server\u001b[0m\u001b[0;34m\u001b[0m\u001b[0;34m\u001b[0m\u001b[0;34m\u001b[0m\u001b[0m\n",
            "\u001b[0;32m/usr/local/lib/python3.7/dist-packages/werkzeug/serving.py\u001b[0m in \u001b[0;36mrun_simple\u001b[0;34m(hostname, port, application, use_reloader, use_debugger, use_evalex, extra_files, reloader_interval, reloader_type, threaded, processes, request_handler, static_files, passthrough_errors, ssl_context)\u001b[0m\n\u001b[1;32m   1028\u001b[0m             \u001b[0ms\u001b[0m \u001b[0;34m=\u001b[0m \u001b[0msocket\u001b[0m\u001b[0;34m.\u001b[0m\u001b[0msocket\u001b[0m\u001b[0;34m(\u001b[0m\u001b[0maddress_family\u001b[0m\u001b[0;34m,\u001b[0m \u001b[0msocket\u001b[0m\u001b[0;34m.\u001b[0m\u001b[0mSOCK_STREAM\u001b[0m\u001b[0;34m)\u001b[0m\u001b[0;34m\u001b[0m\u001b[0;34m\u001b[0m\u001b[0m\n\u001b[1;32m   1029\u001b[0m             \u001b[0ms\u001b[0m\u001b[0;34m.\u001b[0m\u001b[0msetsockopt\u001b[0m\u001b[0;34m(\u001b[0m\u001b[0msocket\u001b[0m\u001b[0;34m.\u001b[0m\u001b[0mSOL_SOCKET\u001b[0m\u001b[0;34m,\u001b[0m \u001b[0msocket\u001b[0m\u001b[0;34m.\u001b[0m\u001b[0mSO_REUSEADDR\u001b[0m\u001b[0;34m,\u001b[0m \u001b[0;36m1\u001b[0m\u001b[0;34m)\u001b[0m\u001b[0;34m\u001b[0m\u001b[0;34m\u001b[0m\u001b[0m\n\u001b[0;32m-> 1030\u001b[0;31m             \u001b[0ms\u001b[0m\u001b[0;34m.\u001b[0m\u001b[0mbind\u001b[0m\u001b[0;34m(\u001b[0m\u001b[0mserver_address\u001b[0m\u001b[0;34m)\u001b[0m\u001b[0;34m\u001b[0m\u001b[0;34m\u001b[0m\u001b[0m\n\u001b[0m\u001b[1;32m   1031\u001b[0m             \u001b[0;32mif\u001b[0m \u001b[0mhasattr\u001b[0m\u001b[0;34m(\u001b[0m\u001b[0ms\u001b[0m\u001b[0;34m,\u001b[0m \u001b[0;34m\"set_inheritable\"\u001b[0m\u001b[0;34m)\u001b[0m\u001b[0;34m:\u001b[0m\u001b[0;34m\u001b[0m\u001b[0;34m\u001b[0m\u001b[0m\n\u001b[1;32m   1032\u001b[0m                 \u001b[0ms\u001b[0m\u001b[0;34m.\u001b[0m\u001b[0mset_inheritable\u001b[0m\u001b[0;34m(\u001b[0m\u001b[0;32mTrue\u001b[0m\u001b[0;34m)\u001b[0m\u001b[0;34m\u001b[0m\u001b[0;34m\u001b[0m\u001b[0m\n",
            "\u001b[0;31mOSError\u001b[0m: [Errno 98] Address already in use"
          ]
        }
      ],
      "source": [
        "import pandas as pd\n",
        "import numpy as np\n",
        "import plotly.express as px\n",
        "import dash\n",
        "import dash_auth\n",
        "import dash_core_components as dcc\n",
        "import dash_html_components as html\n",
        "from dash.dependencies import Input, Output\n",
        "USERNAME_PASSWORD_PAIRS=[['virat','kohli']]\n",
        "app=dash.Dash(__name__)\n",
        "auth= dash_auth.BasicAuth(app,USERNAME_PASSWORD_PAIRS)\n",
        "server=app.server\n",
        "df = pd.read_csv('https://raw.githubusercontent.com/srinathkr07/IPL-Data-Analysis/master/matches.csv')\n",
        "df=df.drop(columns='id')\n",
        "df=df.fillna(0)\n",
        "mappings={'Kings XI Punjab':'Punjab Kings','Delhi Capitals':'Delhi Daredevils'}\n",
        "df['team1']=df['team1'].replace(mappings)\n",
        "df['team2']=df['team2'].replace(mappings)\n",
        "df['winner']=df['winner'].replace(mappings)\n",
        "df['toss_winner']=df['toss_winner'].replace(mappings)\n",
        "\n",
        "df['team1']=df['team1'].replace(mappings)          \n",
        "Teams = df['team1'].unique()\n",
        "\n",
        "\n",
        "#for best team\n",
        "w=df['winner'].value_counts()\n",
        "fig=px.bar(w,title='Best Team')\n",
        "\n",
        "p=df['player_of_match'].value_counts()\n",
        "\n",
        "#for best player \n",
        "fig2=px.bar(p,title='Best Player',orientation='h')\n",
        "\n",
        "#winner by runs\n",
        "fig3=px.bar(df,x='winner',y='win_by_runs',color='win_by_runs',title='Most no. of Wins by runs ')\n",
        "\n",
        "#winner by wickets\n",
        "fig4=px.bar(df,x='winner',y='win_by_wickets',color='win_by_wickets',title='Most no. of Wins by Wickets')\n",
        "\n",
        "\n",
        "#to create a new column 'Loser' \n",
        "loser=[]\n",
        "for i in range(756):\n",
        "  if (df.iloc[i,3])!=(df.iloc[i,9]):\n",
        "    loser.append(df.iloc[i,3])\n",
        "  elif (df.iloc[i,9])==0:\n",
        "    loser.append(0)\n",
        "  else:\n",
        "    loser.append(df.iloc[i,4])\n",
        "df['Loser']=loser\n",
        "#to find the total matches played by each team over all the seasons\n",
        "total={}\n",
        "count=0\n",
        "for i in df['team1'].unique():\n",
        "  for m in range(756):\n",
        "    if i==df.iloc[m,3]:\n",
        "      count+=1\n",
        "    else:\n",
        "      if i==df.iloc[m,4]:\n",
        "        count+=1\n",
        "  total[i]=count\n",
        "  count=0\n",
        "#to create a new column of total matches played by the winner over all the seasons\n",
        "match=[]\n",
        "for i in df['winner']:\n",
        "  for j,k in total.items():\n",
        "    if i==j:\n",
        "      match.append(k)\n",
        "    elif i==0:\n",
        "      match.append(0)\n",
        "      break\n",
        "df['Total_matches_played_by_winner']=match\n",
        "\n",
        "app.layout=html.Div([html.H1(children='IPL Data Analysis', style={'textAlign': 'center','color': 'darkgrey', 'fontSize': 40,'backgroundColor':'black'}),\n",
        "                     \n",
        "                     \n",
        "                     html.Div([dcc.Dropdown([{'label':'Best team based on Number of Wins','value':'teams'},\n",
        "                                             {'label':'Best Player based on Player of the Match','value':'player'},\n",
        "                                             {'label':'Best team based on Win by Runs','value':'runs'},\n",
        "                                             {'label':'Best Team based on Win by Wickets','value':'wickets'},\n",
        "                                             {'label':'Luckiest Venue for Each Team','value':'venue'},\n",
        "                                             {'label':'Winning probability by Winning Toss','value':'toss'}],\n",
        "                                             value='teams',id='dropdown',\n",
        "                                            style = dict(width = '70%',verticalAlign = \"left\"))\n",
        "                     ]),\n",
        "                     html.Br(),\n",
        "                     html.Div([dcc.Slider(min=2008,max=2018,step=1,marks={2008:'2008',2009:'2009',2010:'2010',\n",
        "                                                                          2011:'2011',2012:'2012',2013:'2013',\n",
        "                                                                          2014:'2014',2015:'2015',2016:'2016',\n",
        "                                                                          2017:'2017',2018:'2018'},value='2008'\n",
        "                                                                          , id='seasons')]),\n",
        "                                                                          \n",
        "                     html.Br(),\n",
        "                     html.Div([dcc.Graph(id='graph',)])\n",
        "])\n",
        "@app.callback(\n",
        "    Output('graph','figure'),\n",
        "    [Input('dropdown','value')],[Input('seasons','value')])\n",
        "def update_graph(fvalue,svalue):\n",
        "  if fvalue== 'teams':\n",
        "    return fig\n",
        "\n",
        "  elif fvalue=='player':\n",
        "    return fig2\n",
        "\n",
        "  elif fvalue=='runs':\n",
        "    return fig3\n",
        "\n",
        "  elif fvalue=='wickets':\n",
        "    return fig4\n",
        "\n",
        "\n",
        "if __name__ == '__main__':\n",
        "  app.run_server(debug=True)"
      ]
    }
  ]
}